{
 "cells": [
  {
   "cell_type": "code",
   "execution_count": 36,
   "id": "020b0d86",
   "metadata": {},
   "outputs": [
    {
     "name": "stdout",
     "output_type": "stream",
     "text": [
      "Enter the name of the Girl: anushka\n",
      "Enter the name of the Boy: prabhas\n",
      "flame count 6\n",
      "Anushka Marries Prabhas\n"
     ]
    }
   ],
   "source": [
    "n1 = input(\"Enter the name of the Girl: \")\n",
    "n2 = input(\"Enter the name of the Boy: \")\n",
    "name1 = [str(i) for i in n1]\n",
    "name2 = [str(i) for i in n2]\n",
    "list1=[]\n",
    "count=0\n",
    "for i in range(len(name1)):\n",
    "    if name1[i] in name2:\n",
    "        index=name2.index(name1[i])\n",
    "        del name2[index]\n",
    "        count+=1\n",
    "flame_count=len(n1)+len(n2)-(2*count)\n",
    "print(\"flame count\",flame_count)\n",
    "string=\"flames\"\n",
    "string=[str(i) for i in string]\n",
    "i=0\n",
    "while(len(string)!=1):\n",
    "        i=(i+flame_count-1)%len(string)\n",
    "        del string[i]\n",
    "# print(string)\n",
    "if string[0]=='l':\n",
    "    print(n1.capitalize(),\"Loves\",n2.capitalize())\n",
    "elif string[0]=='m':\n",
    "    print(n1.capitalize(),\"Marries\",n2.capitalize())\n",
    "elif string[0]=='s':\n",
    "    print(n1.capitalize(),\"is the Sister of\",n2.capitalize())\n",
    "elif string[0]=='f':\n",
    "    print(n1.capitalize(),\"is the Friend of\",n2.capitalize())\n",
    "elif string[0]=='a':\n",
    "    print(\"Affection in between\",n1.capitalize(),\"and\",n2.capitalize())\n",
    "elif string[0]=='e':\n",
    "    print(n1.capitalize(),\"and\",n2.capitalize(),\"are Enemies\")"
   ]
  }
 ],
 "metadata": {
  "kernelspec": {
   "display_name": "Python 3 (ipykernel)",
   "language": "python",
   "name": "python3"
  },
  "language_info": {
   "codemirror_mode": {
    "name": "ipython",
    "version": 3
   },
   "file_extension": ".py",
   "mimetype": "text/x-python",
   "name": "python",
   "nbconvert_exporter": "python",
   "pygments_lexer": "ipython3",
   "version": "3.9.12"
  }
 },
 "nbformat": 4,
 "nbformat_minor": 5
}
